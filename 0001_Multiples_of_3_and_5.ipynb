{
 "cells": [
  {
   "cell_type": "markdown",
   "metadata": {},
   "source": [
    "## 原文\n",
    "If we list all the natural numbers below 10 that are multiples of 3 or 5, we get 3, 5, 6 and 9. The sum of these multiples is 23.\n",
    "\n",
    "Find the sum of all the multiples of 3 or 5 below 1000."
   ]
  },
  {
   "cell_type": "markdown",
   "metadata": {},
   "source": [
    "## 和訳\n",
    "3または5の倍数である10未満のすべての自然数は、3,5,6,そして9である。\n",
    "これらの倍数の総和は23である。\n",
    "\n",
    "3または5の倍数である1000未満のすべての自然数の総和を求めよ。"
   ]
  },
  {
   "cell_type": "code",
   "execution_count": 1,
   "metadata": {},
   "outputs": [],
   "source": [
    "#使えそうなモジュールいれとく\n",
    "import numpy as np\n",
    "import math"
   ]
  },
  {
   "cell_type": "code",
   "execution_count": 2,
   "metadata": {},
   "outputs": [
    {
     "name": "stdout",
     "output_type": "stream",
     "text": [
      "233168\n"
     ]
    }
   ],
   "source": [
    "# 3 or 5の倍数を詰め込む\n",
    "multiples = []\n",
    "\n",
    "# 1000未満の自然数\n",
    "for i in range(1,1000):\n",
    "    # 3の倍数or5の倍数をさがす\n",
    "    if i % 3 == 0 or i % 5 == 0:\n",
    "        multiples.append(i)\n",
    "        \n",
    "#　3 or 5の倍数の総和を求める\n",
    "print(sum(multiples))"
   ]
  },
  {
   "cell_type": "code",
   "execution_count": null,
   "metadata": {},
   "outputs": [],
   "source": []
  }
 ],
 "metadata": {
  "kernelspec": {
   "display_name": "Python 3",
   "language": "python",
   "name": "python3"
  },
  "language_info": {
   "codemirror_mode": {
    "name": "ipython",
    "version": 3
   },
   "file_extension": ".py",
   "mimetype": "text/x-python",
   "name": "python",
   "nbconvert_exporter": "python",
   "pygments_lexer": "ipython3",
   "version": "3.6.7"
  }
 },
 "nbformat": 4,
 "nbformat_minor": 2
}
