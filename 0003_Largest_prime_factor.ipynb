{
 "cells": [
  {
   "cell_type": "markdown",
   "metadata": {},
   "source": [
    "## 原文\n",
    "The prime factors of 13195 are 5, 7, 13 and 29.\n",
    "\n",
    "What is the largest prime factor of the number 600851475143 ?"
   ]
  },
  {
   "cell_type": "markdown",
   "metadata": {},
   "source": [
    "## 和訳\n",
    "13195の素因数は5, 7, 13　そして 29である。\n",
    "\n",
    "600851475143の最大の素因数はなんでしょう ?"
   ]
  },
  {
   "cell_type": "code",
   "execution_count": 1,
   "metadata": {},
   "outputs": [],
   "source": [
    "# おまじない\n",
    "import numpy as np\n",
    "import math"
   ]
  },
  {
   "cell_type": "code",
   "execution_count": 2,
   "metadata": {},
   "outputs": [
    {
     "name": "stdout",
     "output_type": "stream",
     "text": [
      "素因数は: 71\n",
      "素因数は: 839\n",
      "素因数は: 1471\n",
      "素因数は: 6857\n",
      "最大素因数は: 6857\n"
     ]
    }
   ],
   "source": [
    "# 問題の数\n",
    "num = 600851475143\n",
    "#探索のための数を初期化\n",
    "n = 2\n",
    "#素因数を初期化\n",
    "pf = 2\n",
    "\n",
    "while n:\n",
    "    n+=1\n",
    "    # 素数か判定する\n",
    "    # 1桁は決め打っちゃう\n",
    "    if n in [2,3,5,7] and n < 10:\n",
    "        pf = n\n",
    "    # 素数じゃない一桁\n",
    "    elif n < 10:\n",
    "        continue\n",
    "    # 2桁以上は別ロジックで\n",
    "    else:\n",
    "        #　1の位が [0, 2, 4, 5, 6, 8]の時計算不要\n",
    "        if n % 10 in [0, 2, 4, 5, 6, 8]:\n",
    "            # 素数じゃない\n",
    "            continue\n",
    "\n",
    "        # 3の倍数判定\n",
    "        # 1文字ずつの配列作成\n",
    "        num_array = list(map(int, str(n)))\n",
    "        if sum(num_array) % 3 == 0:\n",
    "            # 素数じゃない\n",
    "            continue\n",
    "        \n",
    "        # √nまで調べればOK\n",
    "        for i in range(3 , int(math.sqrt(n)), 2):\n",
    "            if(n % i == 0):\n",
    "                # 素数じゃない\n",
    "                continue\n",
    "        \n",
    "        # 素数\n",
    "        pf = n\n",
    "    \n",
    "    # 割り切れるか\n",
    "    if num % pf == 0:\n",
    "        print(\"素因数は: {}\".format(pf))\n",
    "        num = num / pf\n",
    "        \n",
    "        # numを1にした素数が最大素数\n",
    "        if num == 1:\n",
    "            print(\"最大素因数は: {}\".format(pf))\n",
    "            break\n",
    "    else:\n",
    "        #　割り切れない(素因数じゃない)\n",
    "        continue\n"
   ]
  },
  {
   "cell_type": "code",
   "execution_count": null,
   "metadata": {},
   "outputs": [],
   "source": []
  }
 ],
 "metadata": {
  "kernelspec": {
   "display_name": "Python 3",
   "language": "python",
   "name": "python3"
  },
  "language_info": {
   "codemirror_mode": {
    "name": "ipython",
    "version": 3
   },
   "file_extension": ".py",
   "mimetype": "text/x-python",
   "name": "python",
   "nbconvert_exporter": "python",
   "pygments_lexer": "ipython3",
   "version": "3.6.7"
  }
 },
 "nbformat": 4,
 "nbformat_minor": 2
}
