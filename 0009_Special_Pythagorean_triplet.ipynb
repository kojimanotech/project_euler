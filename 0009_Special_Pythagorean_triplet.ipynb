{
 "cells": [
  {
   "cell_type": "markdown",
   "metadata": {},
   "source": [
    "## 原文\n",
    "A Pythagorean triplet is a set of three natural numbers, $a < b < c$, for which,\n",
    "\n",
    "$$a^2 + b^2 = c^2$$\n",
    "For example, $3^2 + 4^2 = 9 + 16 = 25 = 5^2$.\n",
    "\n",
    "There exists exactly one Pythagorean triplet for which $a + b + c = 1000$.\n",
    "Find the product $abc$."
   ]
  },
  {
   "cell_type": "markdown",
   "metadata": {},
   "source": [
    "## 和訳\n",
    "ピタゴラスの3数？（A Pythagorean triplet）は、 $a < b < c$のとき、以下を満たす3つの自然数の集合のことである。\n",
    "\n",
    "$$a^2 + b^2 = c^2$$\n",
    "たとえば、 $3^2 + 4^2 = 9 + 16 = 25 = 5^2$　となる。\n",
    "\n",
    "$a + b + c = 1000$を満たすピタゴラスの3数がただ一つ存在する。\n",
    "その積$abc$を求めよ。"
   ]
  },
  {
   "cell_type": "markdown",
   "metadata": {},
   "source": [
    "## 方針\n",
    "- 変数3つ大変だから2変数に落とす\n",
    "$$c = 1000 - a - bとする$$\n",
    "- $300 + 400 + 500 = 1200$だから大体このくらいだろうと予想\n",
    "- $100^2 +101^2 = 20201 > 200^2 => 100 + 101 + 200 < 1000$から3桁以上は確実なので3桁から探索開始"
   ]
  },
  {
   "cell_type": "code",
   "execution_count": 1,
   "metadata": {},
   "outputs": [],
   "source": [
    "# おまじない\n",
    "import numpy as np\n",
    "import math"
   ]
  },
  {
   "cell_type": "code",
   "execution_count": 2,
   "metadata": {},
   "outputs": [
    {
     "name": "stdout",
     "output_type": "stream",
     "text": [
      "(200, 375, 425, 31875000)\n",
      "答えは(a, b, c)=(200,375,425)のとき、abc=31875000.\n"
     ]
    }
   ],
   "source": [
    "def getPythagorean():\n",
    "    for a in range(100, 1000):\n",
    "        for b in range(a+1, 1000):\n",
    "            c = 1000 - a - b\n",
    "            if a**2 + b**2 == c**2:\n",
    "                return (a,b,c,a*b*c)\n",
    "            \n",
    "    return 0,0,0,0 #失敗\n",
    "\n",
    "answer = getPythagorean()\n",
    "print(answer)\n",
    "print(\"答えは(a, b, c)=({0[0]},{0[1]},{0[2]})のとき、abc={0[3]}.\".format(answer))"
   ]
  },
  {
   "cell_type": "code",
   "execution_count": null,
   "metadata": {},
   "outputs": [],
   "source": []
  }
 ],
 "metadata": {
  "kernelspec": {
   "display_name": "Python 3",
   "language": "python",
   "name": "python3"
  },
  "language_info": {
   "codemirror_mode": {
    "name": "ipython",
    "version": 3
   },
   "file_extension": ".py",
   "mimetype": "text/x-python",
   "name": "python",
   "nbconvert_exporter": "python",
   "pygments_lexer": "ipython3",
   "version": "3.6.7"
  }
 },
 "nbformat": 4,
 "nbformat_minor": 2
}
