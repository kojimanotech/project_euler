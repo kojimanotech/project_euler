{
 "cells": [
  {
   "cell_type": "markdown",
   "metadata": {},
   "source": [
    "## 原文\n",
    "2520 is the smallest number that can be divided by each of the numbers from 1 to 10 without any remainder.\n",
    "\n",
    "What is the smallest positive number that is evenly divisible by all of the numbers from 1 to 20?"
   ]
  },
  {
   "cell_type": "markdown",
   "metadata": {},
   "source": [
    "## 和訳\n",
    "2520は1から10の各数で割り切れる最小の数である。\n",
    "\n",
    "1から20の各数で割り切れる最小の正数を求めよ。"
   ]
  },
  {
   "cell_type": "code",
   "execution_count": 1,
   "metadata": {},
   "outputs": [],
   "source": [
    "# おまじない\n",
    "import numpy as np\n",
    "import math"
   ]
  },
  {
   "cell_type": "code",
   "execution_count": 2,
   "metadata": {},
   "outputs": [
    {
     "name": "stdout",
     "output_type": "stream",
     "text": [
      "[2, 3, 5, 7, 11, 13, 17, 19]\n"
     ]
    }
   ],
   "source": [
    "# 素因数が20までの間に何個あればよいか\n",
    "# 調べれば良い\n",
    "\n",
    "#探索のための数を初期化\n",
    "num = 20\n",
    "#素数を初期化\n",
    "pf_array = [2, 3, 5, 7]\n",
    "\n",
    "# 2桁以上の素数判定\n",
    "for n in range(10, num + 1):\n",
    "    #　1の位が [0, 2, 4, 5, 6, 8]の時計算不要\n",
    "    if n % 10 in [0, 2, 4, 5, 6, 8]:\n",
    "        # 素数じゃない\n",
    "        continue\n",
    "\n",
    "    # 3の倍数判定\n",
    "    # 1文字ずつの配列作成\n",
    "    num_array = list(map(int, str(n)))\n",
    "    if sum(num_array) % 3 == 0:\n",
    "        # 素数じゃない\n",
    "        continue\n",
    "\n",
    "    # √nまで調べればOK\n",
    "    for i in range(3 , int(math.sqrt(n))+1, 2):\n",
    "        if(n % i == 0):\n",
    "            # 素数じゃない\n",
    "            continue\n",
    "\n",
    "    # 素数\n",
    "    pf_array.append(n)\n",
    "\n",
    "print(pf_array)"
   ]
  },
  {
   "cell_type": "code",
   "execution_count": 3,
   "metadata": {},
   "outputs": [
    {
     "name": "stdout",
     "output_type": "stream",
     "text": [
      "232792560\n"
     ]
    }
   ],
   "source": [
    "# 素因数探す\n",
    "min_multiple = 1\n",
    "for i in pf_array:\n",
    "    j = 1\n",
    "    # numを超えるまでかける\n",
    "    while i ** j <= num:\n",
    "        min_multiple *= i\n",
    "        j += 1\n",
    "\n",
    "# この式に等しくなる\n",
    "# print((2**4)*(3**2)*5*7*11*13*17*19)\n",
    "print(min_multiple)"
   ]
  },
  {
   "cell_type": "code",
   "execution_count": null,
   "metadata": {},
   "outputs": [],
   "source": []
  }
 ],
 "metadata": {
  "kernelspec": {
   "display_name": "Python 3",
   "language": "python",
   "name": "python3"
  },
  "language_info": {
   "codemirror_mode": {
    "name": "ipython",
    "version": 3
   },
   "file_extension": ".py",
   "mimetype": "text/x-python",
   "name": "python",
   "nbconvert_exporter": "python",
   "pygments_lexer": "ipython3",
   "version": "3.6.7"
  }
 },
 "nbformat": 4,
 "nbformat_minor": 2
}
