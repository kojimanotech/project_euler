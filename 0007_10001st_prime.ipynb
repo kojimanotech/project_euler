{
 "cells": [
  {
   "cell_type": "markdown",
   "metadata": {},
   "source": [
    "## 原文\n",
    "By listing the first six prime numbers: 2, 3, 5, 7, 11, and 13, we can see that the 6th prime is 13.\n",
    "\n",
    "What is the 10 001st prime number?"
   ]
  },
  {
   "cell_type": "markdown",
   "metadata": {},
   "source": [
    "## 和訳\n",
    "リストによって6番目の素数は: 2,3,5,7,11, そして　13となり、6番目の素数は13だとわかる。\n",
    "\n",
    "10001番目の素数はなにか？"
   ]
  },
  {
   "cell_type": "markdown",
   "metadata": {},
   "source": [
    "## 方針\n",
    "1桁の素数は2,3,5,7\n",
    "2桁以上の素数(5番目の素数)から調べていく。\n",
    "\n",
    "$\\sqrt{n}$以下の奇数だけ見ていけば良い理論に基づき\n",
    "コジマ的最適化を図る。"
   ]
  },
  {
   "cell_type": "code",
   "execution_count": 1,
   "metadata": {},
   "outputs": [],
   "source": [
    "# おまじない\n",
    "import numpy as np\n",
    "import math"
   ]
  },
  {
   "cell_type": "code",
   "execution_count": 2,
   "metadata": {},
   "outputs": [
    {
     "name": "stdout",
     "output_type": "stream",
     "text": [
      "cnt = 10001\n",
      "10001番目の素数：104743\n"
     ]
    }
   ],
   "source": [
    "# 素数探索の初期値を10に設定\n",
    "n = 10\n",
    "\n",
    "# cnt番目の素数をしりたい。\n",
    "# 1桁目は見なかったことにするので、5で初期化\n",
    "cnt = 5\n",
    "\n",
    "# 10001番目の素数が見つかるまでやる\n",
    "def judgePrime(n):\n",
    "    #　1の位が [0, 2, 4, 5, 6, 8]の時計算不要\n",
    "    if n % 10 in [0, 2, 4, 5, 6, 8]:\n",
    "        # 素数じゃない\n",
    "        return 0\n",
    "\n",
    "    # 3の倍数判定\n",
    "    # 1文字ずつの配列作成\n",
    "    num_array = list(map(int, str(n)))\n",
    "    if sum(num_array) % 3 == 0:\n",
    "        # 素数じゃない\n",
    "        return 0\n",
    "\n",
    "    # √nまで調べればOK\n",
    "    for i in range(3 , int(math.sqrt(n))+1, 2):\n",
    "        if(n % i == 0):\n",
    "            # 素数じゃない\n",
    "            #print(n , i)\n",
    "            return 0\n",
    "        else:\n",
    "            pass\n",
    "\n",
    "    # 素数\n",
    "    #print(\"{}番目の素数 ： {}\".format(cnt, n))\n",
    "    return n\n",
    "\n",
    "# ここかっこ悪いソースだなと思いながら書いてた\n",
    "result = 0\n",
    "while True:\n",
    "    result = judgePrime(n)\n",
    "    if result != 0:\n",
    "        if cnt == 10001:\n",
    "            break\n",
    "        cnt += 1 \n",
    "    n += 1\n",
    "    \n",
    "print(\"cnt = {}\".format(cnt))\n",
    "print(\"10001番目の素数：{}\".format(n))"
   ]
  },
  {
   "cell_type": "code",
   "execution_count": null,
   "metadata": {},
   "outputs": [],
   "source": []
  }
 ],
 "metadata": {
  "kernelspec": {
   "display_name": "Python 3",
   "language": "python",
   "name": "python3"
  },
  "language_info": {
   "codemirror_mode": {
    "name": "ipython",
    "version": 3
   },
   "file_extension": ".py",
   "mimetype": "text/x-python",
   "name": "python",
   "nbconvert_exporter": "python",
   "pygments_lexer": "ipython3",
   "version": "3.6.7"
  }
 },
 "nbformat": 4,
 "nbformat_minor": 2
}
