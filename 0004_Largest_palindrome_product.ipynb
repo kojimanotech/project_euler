{
 "cells": [
  {
   "cell_type": "markdown",
   "metadata": {},
   "source": [
    "## 原文\n",
    "A palindromic number reads the same both ways. The largest palindrome made from the product of two 2-digit numbers is 9009 = 91 × 99.\n",
    "\n",
    "Find the largest palindrome made from the product of two 3-digit numbers."
   ]
  },
  {
   "cell_type": "markdown",
   "metadata": {},
   "source": [
    "## 和訳\n",
    "回文数はどちらからでも同じに読める数です。2つの2桁の積で求まる最大の回文数は9009 = 91 × 99です。\n",
    "\n",
    "2つの3桁の積で求まる最大の回文数を求めよ。"
   ]
  },
  {
   "cell_type": "code",
   "execution_count": 1,
   "metadata": {},
   "outputs": [],
   "source": [
    "# おまじない\n",
    "import numpy as np\n",
    "import math"
   ]
  },
  {
   "cell_type": "code",
   "execution_count": 2,
   "metadata": {},
   "outputs": [
    {
     "name": "stdout",
     "output_type": "stream",
     "text": [
      "最大の回文数： 906609\n"
     ]
    }
   ],
   "source": [
    "plindromes = []\n",
    "\n",
    "for a in range(999, 99, -1):\n",
    "    for b in range(999, 99, -1):\n",
    "        result = str(a * b)\n",
    "        if result == result[::-1]:\n",
    "            plindromes.append(int(result))\n",
    "\n",
    "# 答え\n",
    "print(\"最大の回文数： {}\".format(max(plindromes)))"
   ]
  },
  {
   "cell_type": "code",
   "execution_count": null,
   "metadata": {},
   "outputs": [],
   "source": []
  }
 ],
 "metadata": {
  "kernelspec": {
   "display_name": "Python 3",
   "language": "python",
   "name": "python3"
  },
  "language_info": {
   "codemirror_mode": {
    "name": "ipython",
    "version": 3
   },
   "file_extension": ".py",
   "mimetype": "text/x-python",
   "name": "python",
   "nbconvert_exporter": "python",
   "pygments_lexer": "ipython3",
   "version": "3.6.7"
  }
 },
 "nbformat": 4,
 "nbformat_minor": 2
}
