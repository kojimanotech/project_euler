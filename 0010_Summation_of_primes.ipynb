{
 "cells": [
  {
   "cell_type": "markdown",
   "metadata": {},
   "source": [
    "## 原文\n",
    "The sum of the primes below 10 is 2 + 3 + 5 + 7 = 17.\n",
    "\n",
    "Find the sum of all the primes below two million."
   ]
  },
  {
   "cell_type": "markdown",
   "metadata": {},
   "source": [
    "## 和訳\n",
    "10未満の素数の和は 2 + 3 + 5 + 7 = 17.\n",
    "\n",
    "2,000,000未満の素数の和を求めよ。"
   ]
  },
  {
   "cell_type": "markdown",
   "metadata": {},
   "source": [
    "## 方針\n",
    "- 2,000,000未満の素数を全て調べ上げる(過去の問題からロジック流用できる)\n",
    "- 素数は配列に格納\n",
    "- 和はsum関数で求める"
   ]
  },
  {
   "cell_type": "code",
   "execution_count": 5,
   "metadata": {},
   "outputs": [],
   "source": [
    "# おまじない\n",
    "import numpy as np\n",
    "import math"
   ]
  },
  {
   "cell_type": "code",
   "execution_count": 7,
   "metadata": {},
   "outputs": [
    {
     "name": "stdout",
     "output_type": "stream",
     "text": [
      "2,000,000未満の素数の数：148933\n",
      "2,000,000未満の素数の和：142913828922\n"
     ]
    }
   ],
   "source": [
    "# 10001番目の素数が見つかるまでやる\n",
    "def judgePrime(n):\n",
    "    #　1の位が [0, 2, 4, 5, 6, 8]の時計算不要\n",
    "    if n % 10 in [0, 2, 4, 5, 6, 8]:\n",
    "        # 素数じゃない\n",
    "        return 0\n",
    "\n",
    "    # 3の倍数判定\n",
    "    num_array = list(map(int, str(n)))\n",
    "    if sum(num_array) % 3 == 0:\n",
    "        # 素数じゃない\n",
    "        return 0\n",
    "\n",
    "    # √nまで調べればOK\n",
    "    for i in range(3 , int(math.sqrt(n))+1, 2):\n",
    "        if(n % i == 0):\n",
    "            # 素数じゃない\n",
    "            #print(n , i)\n",
    "            return 0\n",
    "        else:\n",
    "            pass\n",
    "\n",
    "    # 素数\n",
    "    return n\n",
    "\n",
    "# 1桁の素数は初期化しておく\n",
    "prime_nums = [2,3,5,7]\n",
    "for n in range(10,2000000):\n",
    "    tmp = judgePrime(n)\n",
    "    if tmp != 0:\n",
    "        prime_nums.append(tmp)\n",
    "    \n",
    "print(\"2,000,000未満の素数の数：{}\".format(len(prime_nums)))\n",
    "print(\"2,000,000未満の素数の和：{}\".format(sum(prime_nums)))"
   ]
  },
  {
   "cell_type": "code",
   "execution_count": null,
   "metadata": {},
   "outputs": [],
   "source": []
  }
 ],
 "metadata": {
  "kernelspec": {
   "display_name": "Python 3",
   "language": "python",
   "name": "python3"
  },
  "language_info": {
   "codemirror_mode": {
    "name": "ipython",
    "version": 3
   },
   "file_extension": ".py",
   "mimetype": "text/x-python",
   "name": "python",
   "nbconvert_exporter": "python",
   "pygments_lexer": "ipython3",
   "version": "3.6.7"
  }
 },
 "nbformat": 4,
 "nbformat_minor": 2
}
